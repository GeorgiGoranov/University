{
 "cells": [
  {
   "cell_type": "code",
   "execution_count": 1,
   "metadata": {},
   "outputs": [
    {
     "name": "stdout",
     "output_type": "stream",
     "text": [
      "Trained Q-matrix:\n",
      "[[  0.     0.     0.     0.   400.     0.  ]\n",
      " [  0.     0.     0.   320.     0.   500.  ]\n",
      " [  0.     0.     0.   320.     0.     0.  ]\n",
      " [  0.   400.   256.     0.   400.     0.  ]\n",
      " [320.     0.     0.   320.     0.   500.  ]\n",
      " [  0.   399.35   0.     0.   399.99 500.  ]]\n"
     ]
    }
   ],
   "source": [
    "import numpy as np\n",
    "\n",
    "# Define the states (rooms)\n",
    "states = [0, 1, 2, 3, 4, 5]\n",
    "\n",
    "# Define the actions (movements between rooms)\n",
    "actions = [0, 1, 2, 3, 4, 5]\n",
    "\n",
    "# Rewards matrix\n",
    "rewards = np.array([\n",
    "    [-1, -1, -1, -1, 0, -1],\n",
    "    [-1, -1, -1, 0, -1, 100],\n",
    "    [-1, -1, -1, 0, -1, -1],\n",
    "    [-1, 0, 0, -1, 0, -1],\n",
    "    [0, -1, -1, 0, -1, 100],\n",
    "    [-1, 0, -1, -1, 0, 100]\n",
    "])\n",
    "\n",
    "# Initialize with zeros\n",
    "Q = np.zeros((len(states), len(actions)))\n",
    "\n",
    "learning_rate = 0.8\n",
    "discount_factor = 0.8\n",
    "epsilon = 1.0  # exploration rate\n",
    "epsilon_decay = 0.995  # exploration rate decay\n",
    "min_epsilon = 0.1\n",
    "n_episodes = 1000\n",
    "\n",
    "for episode in range(n_episodes):\n",
    "    # Start from a random state\n",
    "    state = np.random.randint(0, len(states))\n",
    "\n",
    "    while True:\n",
    "        # epsilon-greedy strategy\n",
    "        # exploration\n",
    "        if np.random.rand() < epsilon:\n",
    "            action = np.random.choice(actions)\n",
    "        # exploitation\n",
    "        else:\n",
    "            action = np.argmax(Q[state])\n",
    "\n",
    "        # validate action (not negative reward)\n",
    "        while rewards[state, action] == -1:\n",
    "            action = np.random.choice(actions)\n",
    "\n",
    "        next_state = action\n",
    "        reward = rewards[state, action]\n",
    "\n",
    "        # Update the Q-matrix\n",
    "        best_next_action = np.argmax(Q[next_state])\n",
    "        Q[state, action] = Q[state, action] + learning_rate * (\n",
    "                reward + discount_factor * Q[next_state, best_next_action] - Q[state, action])\n",
    "\n",
    "        state = next_state\n",
    "\n",
    "        # goal reached\n",
    "        if state == 5:\n",
    "            break\n",
    "\n",
    "    # reduce exploration rate\n",
    "    if epsilon > min_epsilon:\n",
    "        epsilon *= epsilon_decay\n",
    "\n",
    "np.set_printoptions(precision=2, suppress=True)\n",
    "\n",
    "print(\"Trained Q-matrix:\")\n",
    "print(Q)\n"
   ]
  }
 ],
 "metadata": {
  "kernelspec": {
   "display_name": "Python 3",
   "language": "python",
   "name": "python3"
  },
  "language_info": {
   "codemirror_mode": {
    "name": "ipython",
    "version": 3
   },
   "file_extension": ".py",
   "mimetype": "text/x-python",
   "name": "python",
   "nbconvert_exporter": "python",
   "pygments_lexer": "ipython3",
   "version": "3.11.4"
  }
 },
 "nbformat": 4,
 "nbformat_minor": 2
}
