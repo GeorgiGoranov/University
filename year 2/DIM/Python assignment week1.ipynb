{
 "cells": [
  {
   "cell_type": "code",
   "execution_count": 5,
   "id": "27ed8709",
   "metadata": {},
   "outputs": [
    {
     "name": "stdout",
     "output_type": "stream",
     "text": [
      "4.123105625617661\n"
     ]
    }
   ],
   "source": [
    "import math\n",
    "print(math.sqrt(17))"
   ]
  },
  {
   "cell_type": "code",
   "execution_count": 7,
   "id": "f2e38116",
   "metadata": {},
   "outputs": [
    {
     "ename": "TypeError",
     "evalue": "unsupported operand type(s) for +: 'int' and 'str'",
     "output_type": "error",
     "traceback": [
      "\u001b[1;31m---------------------------------------------------------------------------\u001b[0m",
      "\u001b[1;31mTypeError\u001b[0m                                 Traceback (most recent call last)",
      "Cell \u001b[1;32mIn[7], line 1\u001b[0m\n\u001b[1;32m----> 1\u001b[0m \u001b[38;5;28mprint\u001b[39m(\u001b[38;5;241m81\u001b[39m \u001b[38;5;241m+\u001b[39m \u001b[38;5;124m'\u001b[39m\u001b[38;5;124mForty-two\u001b[39m\u001b[38;5;124m'\u001b[39m)\n",
      "\u001b[1;31mTypeError\u001b[0m: unsupported operand type(s) for +: 'int' and 'str'"
     ]
    }
   ],
   "source": [
    "print(81 + 'Forty-two')"
   ]
  },
  {
   "cell_type": "markdown",
   "id": "24e6e80b",
   "metadata": {},
   "source": [
    "The error implies that we are trying to concatinate int and a string."
   ]
  },
  {
   "cell_type": "code",
   "execution_count": 8,
   "id": "f839d2d7",
   "metadata": {},
   "outputs": [
    {
     "name": "stdout",
     "output_type": "stream",
     "text": [
      "12.0\n"
     ]
    }
   ],
   "source": [
    "print(2 ** 3 / 2 + 8)"
   ]
  },
  {
   "cell_type": "markdown",
   "id": "3aa24eef",
   "metadata": {},
   "source": [
    "Type: float, Why: beacuse it involves devision an this behavior is designed to ensure that the division operation conforms to mathematical expectations, where division can yield a non-integer result even when dividing two integers."
   ]
  },
  {
   "cell_type": "code",
   "execution_count": 11,
   "id": "5df0b29b",
   "metadata": {},
   "outputs": [
    {
     "name": "stdout",
     "output_type": "stream",
     "text": [
      "81 plus 23 equals 104\n"
     ]
    }
   ],
   "source": [
    "x = 81\n",
    "y = 23\n",
    "print(f'{x} plus {y} equals {x+y}')"
   ]
  },
  {
   "cell_type": "code",
   "execution_count": 20,
   "id": "359dbd51",
   "metadata": {},
   "outputs": [
    {
     "name": "stdout",
     "output_type": "stream",
     "text": [
      "81 devided by 23 equals 3 with a reminder of 12\n"
     ]
    }
   ],
   "source": [
    "x = 81\n",
    "y = 23\n",
    "\n",
    "print(f'{x} devided by {y} equals {x//y} with a reminder of {x%y}')"
   ]
  },
  {
   "cell_type": "markdown",
   "id": "cadabd8e",
   "metadata": {},
   "source": [
    "Yes, dictionaries in Python are mutable."
   ]
  },
  {
   "cell_type": "code",
   "execution_count": 31,
   "id": "19952842",
   "metadata": {},
   "outputs": [
    {
     "name": "stdout",
     "output_type": "stream",
     "text": [
      "termites. on mainly feeds that mammal African nocturnal black-striped a\n"
     ]
    }
   ],
   "source": [
    "my_dictionary = {\n",
    "    'aardvark': 'a nocturnal badger-sized burrowing mammal of Africa, with long ears, a tubular snout, and a long extensible tongue, feeding on ants and termites.',\n",
    "    'aardwolf': 'a black-striped nocturnal African mammal that feeds mainly on termites.',\n",
    "    'abaca': 'a large herbaceous Asian plant of the banana family, yielding Manila hemp.',\n",
    "}\n",
    "\n",
    "description = my_dictionary['aardwolf']\n",
    "\n",
    "words = description.split()\n",
    "\n",
    "words_reversed_order = words[::-1]\n",
    "\n",
    "print(' '.join(words_reversed_order))\n",
    "\n",
    "    "
   ]
  },
  {
   "cell_type": "code",
   "execution_count": 35,
   "id": "26b7fa2d",
   "metadata": {},
   "outputs": [
    {
     "name": "stdout",
     "output_type": "stream",
     "text": [
      "6.0\n"
     ]
    }
   ],
   "source": [
    "l = [1, 2, 3.0]\n",
    "print(sum(l))"
   ]
  },
  {
   "cell_type": "code",
   "execution_count": 50,
   "id": "837e4949",
   "metadata": {},
   "outputs": [
    {
     "name": "stdout",
     "output_type": "stream",
     "text": [
      "1307674368000\n"
     ]
    }
   ],
   "source": [
    "num = 15;\n",
    "\n",
    "fact = 1;\n",
    "\n",
    "for i in range(1,num+1):\n",
    "    fact *= i\n",
    "    \n",
    "print(fact)\n",
    "\n",
    "\n"
   ]
  },
  {
   "cell_type": "code",
   "execution_count": 57,
   "id": "e0b1d989",
   "metadata": {},
   "outputs": [
    {
     "name": "stdout",
     "output_type": "stream",
     "text": [
      "0\n",
      "15\n",
      "21\n",
      "30\n",
      "42\n",
      "45\n",
      "60\n",
      "63\n",
      "75\n",
      "84\n",
      "90\n"
     ]
    }
   ],
   "source": [
    "for i in range(101):\n",
    "    if(i % 3 == 0):\n",
    "        if (i % 5 == 0 or i % 7 == 0):\n",
    "            print(i)"
   ]
  },
  {
   "cell_type": "code",
   "execution_count": 61,
   "id": "37590e92",
   "metadata": {},
   "outputs": [
    {
     "name": "stdout",
     "output_type": "stream",
     "text": [
      "12829 is prime.\n"
     ]
    }
   ],
   "source": [
    "number = 12829\n",
    "\n",
    "is_prime = True\n",
    "\n",
    "for i in range(2, int(number ** 0.5) + 1):\n",
    "    if number % i == 0:\n",
    "        is_prime = False\n",
    "        break\n",
    "\n",
    "if is_prime:\n",
    "    print(f\"{number} is prime.\")\n",
    "else:\n",
    "    print(f\"{number} is not prime.\")\n"
   ]
  },
  {
   "cell_type": "code",
   "execution_count": 68,
   "id": "bdd55550",
   "metadata": {},
   "outputs": [
    {
     "name": "stdout",
     "output_type": "stream",
     "text": [
      "The inner product of the lists is: 32.0\n"
     ]
    }
   ],
   "source": [
    "def fun(list1, list2):\n",
    "    return sum(a * b for a, b in zip(list1, list2))\n",
    "\n",
    "list1 = [1.0, 2.0, 3.0]\n",
    "list2 = [4.0, 5.0, 6.0]\n",
    "\n",
    "result = fun(list1, list2)\n",
    "print(f\"The inner product of the lists is: {result}\")\n"
   ]
  },
  {
   "cell_type": "code",
   "execution_count": 78,
   "id": "5f7b055c",
   "metadata": {},
   "outputs": [
    {
     "name": "stdout",
     "output_type": "stream",
     "text": [
      "[1, 5, 6, 8, 9]\n"
     ]
    }
   ],
   "source": [
    "def unique(list1):\n",
    "    unique_element = set()\n",
    "    for i in list1:\n",
    "      unique_element.add(i)\n",
    "    return list(unique_element)\n",
    "\n",
    "list1 = [1,1,5,6,8,8,9]\n",
    "\n",
    "resutl = unique(list1)\n",
    "print(result)\n"
   ]
  },
  {
   "cell_type": "code",
   "execution_count": 88,
   "id": "18daef90",
   "metadata": {},
   "outputs": [
    {
     "name": "stdout",
     "output_type": "stream",
     "text": [
      "Area = \"12.566370614359172\", Circumference  = \"12.566370614359172\"\n"
     ]
    }
   ],
   "source": [
    "def circle(radius):\n",
    "    area = math.pi * radius*radius\n",
    "    surfes = 2 * math.pi * radius\n",
    "    return f'Area = \"{area}\", Circumference  = \"{surfes}\"'\n",
    "    \n",
    "print(circle(2))"
   ]
  },
  {
   "cell_type": "code",
   "execution_count": 102,
   "id": "3a9dd47d",
   "metadata": {},
   "outputs": [
    {
     "name": "stdout",
     "output_type": "stream",
     "text": [
      "True\n"
     ]
    }
   ],
   "source": [
    "def check(str1,str2):\n",
    "    for i in str1:\n",
    "        if i in str2:\n",
    "            return True\n",
    "        return False\n",
    "\n",
    "string1 = \"alabala\"\n",
    "string2 = \"tututua\"\n",
    "\n",
    "print(check(string1,string2))"
   ]
  },
  {
   "cell_type": "code",
   "execution_count": 108,
   "id": "8745477f",
   "metadata": {},
   "outputs": [
    {
     "name": "stdout",
     "output_type": "stream",
     "text": [
      "True\n"
     ]
    }
   ],
   "source": [
    "def is_prime(number):\n",
    "    for i in range(2, int(number ** 0.5) + 1):\n",
    "        if number % i == 0:\n",
    "            return is_prime_bool == False\n",
    "        return is_prime_bool == True\n",
    "                \n",
    "print(is_prime(12829))\n"
   ]
  },
  {
   "cell_type": "code",
   "execution_count": 121,
   "id": "722a89e5",
   "metadata": {},
   "outputs": [
    {
     "name": "stdout",
     "output_type": "stream",
     "text": [
      "[12829]\n"
     ]
    }
   ],
   "source": [
    "def prime_smaller_N(N):\n",
    "    numbers = [12829,589,588,6958]\n",
    "    primes_smaller_than_N = []\n",
    "    \n",
    "    for i in numbers:\n",
    "        if i < N:\n",
    "            is_prime = True\n",
    "            for j in range(2, int(i ** 0.5) + 1):\n",
    "                if i % j == 0:\n",
    "                    is_prime = False\n",
    "                    break\n",
    "            if is_prime:\n",
    "                primes_smaller_than_N.append(number)\n",
    "    \n",
    "    return primes_smaller_than_N\n",
    "        \n",
    "print(prime_smaller_N(500000))\n",
    "    "
   ]
  },
  {
   "cell_type": "code",
   "execution_count": 122,
   "id": "026a526f",
   "metadata": {},
   "outputs": [
    {
     "name": "stdout",
     "output_type": "stream",
     "text": [
      "Point coordinates: 3, 5\n"
     ]
    }
   ],
   "source": [
    "class Point2D:\n",
    "    def __init__(self,x,y):\n",
    "        self.x = x\n",
    "        self.y = y\n",
    "        \n",
    "point = Point2D(3,5)\n",
    "print(f\"Point coordinates: {point.x}, {point.y}\")\n",
    "        "
   ]
  },
  {
   "cell_type": "code",
   "execution_count": 126,
   "id": "a585eb1a",
   "metadata": {},
   "outputs": [
    {
     "name": "stdout",
     "output_type": "stream",
     "text": [
      "Original point: (1, 2)\n",
      "Translated point: (4, 6)\n"
     ]
    }
   ],
   "source": [
    "class Point2D:\n",
    "    def __init__(self,x,y):\n",
    "        self.x = x\n",
    "        self.y = y\n",
    "        \n",
    "class Point2D_Trans:\n",
    "    def __init__(self,dx,dy):\n",
    "        self.dx = dx\n",
    "        self.dy = dy\n",
    "        \n",
    "    def transform(self,point):\n",
    "        new_x = point.x + self.dx\n",
    "        new_y = point.y + self.dy\n",
    "        return Point2D(new_x,new_y)\n",
    "\n",
    "    #set both points\n",
    "point = Point2D(1, 2)\n",
    "translation = Point2D_Trans(3, 4)\n",
    "\n",
    "#combine\n",
    "translated_point = translation.transform(point)\n",
    "\n",
    "print(f\"Original point: ({point.x}, {point.y})\")\n",
    "print(f\"Translated point: ({translated_point.x}, {translated_point.y})\")\n",
    "        "
   ]
  },
  {
   "cell_type": "code",
   "execution_count": 128,
   "id": "e678dcfd",
   "metadata": {},
   "outputs": [
    {
     "name": "stdout",
     "output_type": "stream",
     "text": [
      "Original Point: (3, 4)\n",
      "Translated Point: (7, 6)\n",
      "Is the translation correct? True\n"
     ]
    }
   ],
   "source": [
    "class Point2D:\n",
    "    def __init__(self,x,y):\n",
    "        self.x = x\n",
    "        self.y = y\n",
    "        \n",
    "class Point2D_Trans:\n",
    "    def __init__(self,dx,dy):\n",
    "        self.dx = dx\n",
    "        self.dy = dy\n",
    "        \n",
    "    def transform(self,point):\n",
    "        new_x = point.x + self.dx\n",
    "        new_y = point.y + self.dy\n",
    "        return Point2D(new_x,new_y)\n",
    "\n",
    "point = Point2D(3, 4)\n",
    "\n",
    "translation = Point2D_Trans(4, 2)\n",
    "\n",
    "translated_point = translation.transform(point)\n",
    "\n",
    "# Check \n",
    "correct_translation = translated_point.x == 7 and translated_point.y == 6\n",
    "\n",
    "print(f\"Original Point: ({point.x}, {point.y})\")\n",
    "print(f\"Translated Point: ({translated_point.x}, {translated_point.y})\")\n",
    "print(f\"Is the translation correct? {correct_translation}\")"
   ]
  },
  {
   "cell_type": "code",
   "execution_count": null,
   "id": "e7f4ca16",
   "metadata": {},
   "outputs": [],
   "source": []
  }
 ],
 "metadata": {
  "kernelspec": {
   "display_name": "Python 3 (ipykernel)",
   "language": "python",
   "name": "python3"
  },
  "language_info": {
   "codemirror_mode": {
    "name": "ipython",
    "version": 3
   },
   "file_extension": ".py",
   "mimetype": "text/x-python",
   "name": "python",
   "nbconvert_exporter": "python",
   "pygments_lexer": "ipython3",
   "version": "3.11.5"
  }
 },
 "nbformat": 4,
 "nbformat_minor": 5
}
