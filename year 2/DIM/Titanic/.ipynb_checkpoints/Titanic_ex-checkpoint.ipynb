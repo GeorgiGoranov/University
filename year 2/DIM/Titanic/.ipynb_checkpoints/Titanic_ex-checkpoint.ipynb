{
 "cells": [
  {
   "cell_type": "code",
   "execution_count": 15,
   "metadata": {},
   "outputs": [
    {
     "name": "stdout",
     "output_type": "stream",
     "text": [
      "   row.names  pclass  survived  \\\n",
      "0          1       0         1   \n",
      "1          2       0         0   \n",
      "2          3       0         0   \n",
      "3          4       0         0   \n",
      "4          5       0         1   \n",
      "\n",
      "                                              name      age     embarked  \\\n",
      "0                     Allen, Miss Elisabeth Walton  29.0000  Southampton   \n",
      "1                      Allison, Miss Helen Loraine   2.0000  Southampton   \n",
      "2              Allison, Mr Hudson Joshua Creighton  30.0000  Southampton   \n",
      "3  Allison, Mrs Hudson J.C. (Bessie Waldo Daniels)  25.0000  Southampton   \n",
      "4                    Allison, Master Hudson Trevor   0.9167  Southampton   \n",
      "\n",
      "                         home.dest room      ticket   boat  sex  \n",
      "0                     St Louis, MO  B-5  24160 L221      2    1  \n",
      "1  Montreal, PQ / Chesterville, ON  C26         NaN    NaN    1  \n",
      "2  Montreal, PQ / Chesterville, ON  C26         NaN  (135)    0  \n",
      "3  Montreal, PQ / Chesterville, ON  C26         NaN    NaN    1  \n",
      "4  Montreal, PQ / Chesterville, ON  C22         NaN     11    0  \n"
     ]
    },
    {
     "name": "stderr",
     "output_type": "stream",
     "text": [
      "C:\\Users\\DulgiqG\\AppData\\Local\\Temp\\ipykernel_9076\\3369808752.py:12: FutureWarning: A value is trying to be set on a copy of a DataFrame or Series through chained assignment using an inplace method.\n",
      "The behavior will change in pandas 3.0. This inplace method will never work because the intermediate object on which we are setting values always behaves as a copy.\n",
      "\n",
      "For example, when doing 'df[col].method(value, inplace=True)', try using 'df.method({col: value}, inplace=True)' or df[col] = df[col].method(value) instead, to perform the operation inplace on the original object.\n",
      "\n",
      "\n",
      "  df['age'].fillna(df['age'].median(), inplace=True)\n"
     ]
    }
   ],
   "source": [
    "import pandas as pd\n",
    "from sklearn.model_selection import train_test_split\n",
    "from sklearn.preprocessing import LabelEncoder\n",
    "from sklearn.tree import DecisionTreeClassifier\n",
    "from sklearn.ensemble import RandomForestClassifier\n",
    "from sklearn.metrics import accuracy_score\n",
    "\n",
    "# Loading the dataset\n",
    "df = pd.read_csv('../passengers-titanic.csv')\n",
    "\n",
    "# Filling the missing 'age' values with the median age\n",
    "df['age'].fillna(df['age'].median(), inplace=True)\n",
    "\n",
    "# Converting 'pclass' and 'sex' to numerical values\n",
    "# using LabelEncoder for 'pclass' as it's ordinal\n",
    "le_pclass = LabelEncoder()\n",
    "df['pclass'] = le_pclass.fit_transform(df['pclass'])\n",
    "\n",
    "# Converting 'sex' to binary values, 0 for male and 1 for female\n",
    "df['sex'] = df['sex'].map({'male': 0, 'female': 1})\n",
    "\n",
    "# Displaying the first few rows \n",
    "print(df.head())\n"
   ]
  },
  {
   "cell_type": "code",
   "execution_count": 12,
   "id": "4741b3d1",
   "metadata": {},
   "outputs": [],
   "source": [
    "# Defineing features and target variable\n",
    "X = df[['pclass', 'age', 'sex']]\n",
    "y = df['survived']\n",
    "\n",
    "# Split the data into training and testing sets\n",
    "X_train, X_test, y_train, y_test = train_test_split(X, y, test_size=0.2, random_state=42)\n"
   ]
  },
  {
   "cell_type": "code",
   "execution_count": 13,
   "id": "6c6c274a",
   "metadata": {},
   "outputs": [
    {
     "name": "stdout",
     "output_type": "stream",
     "text": [
      "Decision Tree Accuracy: 0.7985\n"
     ]
    }
   ],
   "source": [
    "# Initialization of the Decision Tree model\n",
    "dt_model = DecisionTreeClassifier(random_state=42)\n",
    "\n",
    "# Train \n",
    "dt_model.fit(X_train, y_train)\n",
    "\n",
    "# Make predictions and evaluate the model\n",
    "dt_predictions = dt_model.predict(X_test)\n",
    "dt_accuracy = accuracy_score(y_test, dt_predictions)\n",
    "print(f'Decision Tree Accuracy: {dt_accuracy:.4f}')\n"
   ]
  },
  {
   "cell_type": "code",
   "execution_count": 14,
   "id": "dc1c0eb8",
   "metadata": {},
   "outputs": [
    {
     "name": "stdout",
     "output_type": "stream",
     "text": [
      "Random Forest Accuracy: 0.8061\n"
     ]
    }
   ],
   "source": [
    "# Initialization of the Random Forest model\n",
    "rf_model = RandomForestClassifier(n_estimators=100, random_state=42)\n",
    "\n",
    "# Train \n",
    "rf_model.fit(X_train, y_train)\n",
    "\n",
    "# Make predictions and evaluate the model\n",
    "rf_predictions = rf_model.predict(X_test)\n",
    "rf_accuracy = accuracy_score(y_test, rf_predictions)\n",
    "print(f'Random Forest Accuracy: {rf_accuracy:.4f}')\n"
   ]
  },
  {
   "cell_type": "code",
   "execution_count": 17,
   "id": "06c8fcdb",
   "metadata": {},
   "outputs": [
    {
     "name": "stdout",
     "output_type": "stream",
     "text": [
      "Decision Tree Accuracy with max_depth=5: 0.8289\n",
      "Random Forest Accuracy with n_estimators=150 and max_depth=10: 0.7947\n"
     ]
    }
   ],
   "source": [
    "# Experimenting with Decision Tree parameters\n",
    "dt_model_depth = DecisionTreeClassifier(random_state=42, max_depth=5)\n",
    "dt_model_depth.fit(X_train, y_train)\n",
    "dt_predictions_depth = dt_model_depth.predict(X_test)\n",
    "dt_accuracy_depth = accuracy_score(y_test, dt_predictions_depth)\n",
    "print(f'Decision Tree Accuracy with max_depth=5: {dt_accuracy_depth:.4f}')\n",
    "\n",
    "# Experimenting with Random Forest parameters\n",
    "rf_model_adjusted = RandomForestClassifier(n_estimators=150, max_depth=10, random_state=42)\n",
    "rf_model_adjusted.fit(X_train, y_train)\n",
    "rf_predictions_adjusted = rf_model_adjusted.predict(X_test)\n",
    "rf_accuracy_adjusted = accuracy_score(y_test, rf_predictions_adjusted)\n",
    "print(f'Random Forest Accuracy with n_estimators=150 and max_depth=10: {rf_accuracy_adjusted:.4f}')\n"
   ]
  }
 ],
 "metadata": {
  "kernelspec": {
   "display_name": "titanic",
   "language": "python",
   "name": "python3"
  },
  "language_info": {
   "codemirror_mode": {
    "name": "ipython",
    "version": 3
   },
   "file_extension": ".py",
   "mimetype": "text/x-python",
   "name": "python",
   "nbconvert_exporter": "python",
   "pygments_lexer": "ipython3",
   "version": "3.11.8"
  }
 },
 "nbformat": 4,
 "nbformat_minor": 5
}
